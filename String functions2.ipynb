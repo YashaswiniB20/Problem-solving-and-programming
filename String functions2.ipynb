{
 "cells": [
  {
   "cell_type": "markdown",
   "metadata": {},
   "source": [
    "### Dictionary"
   ]
  },
  {
   "cell_type": "code",
   "execution_count": 2,
   "metadata": {},
   "outputs": [
    {
     "name": "stdout",
     "output_type": "stream",
     "text": [
      "user1[Name]= Yashaswini\n",
      "user1[EmailID]= yashaswinibadarla20@gmail.com\n",
      "user1[Age]= 19\n",
      "user1[Mobile number]= 7********0\n"
     ]
    }
   ],
   "source": [
    "user1={'Name':'Yashaswini','Age':19,'EmailID':'yashaswinibadarla20@gmail.com','Mobile number':'7********0'}\n",
    "print(\"user1[Name]=\",user1['Name'])\n",
    "print(\"user1[EmailID]=\",user1['EmailID'])\n",
    "print(\"user1[Age]=\",user1['Age'])\n",
    "print(\"user1[Mobile number]=\",user1['Mobile number'])"
   ]
  },
  {
   "cell_type": "code",
   "execution_count": 1,
   "metadata": {},
   "outputs": [
    {
     "name": "stdout",
     "output_type": "stream",
     "text": [
      "yashaswinibadarla20@gmail.com\n",
      "Yashaswinibadarla20@gmail.com\n",
      "Hyderabad\n"
     ]
    }
   ],
   "source": [
    "user1={'Name':'Yashaswini','Age':19,'EmailID':'yashaswinibadarla20@gmail.com','Mobile number':'7********0'}\n",
    "print(user1['EmailID'])\n",
    "#update the dict obj data\n",
    "user1['EmailID']='Yashaswinibadarla20@gmail.com'\n",
    "print(user1['EmailID'])\n",
    "user1['Address']='Hyderabad'   #New entry for an item\n",
    "print(user1['Address'])\n"
   ]
  },
  {
   "cell_type": "code",
   "execution_count": 3,
   "metadata": {},
   "outputs": [
    {
     "name": "stdout",
     "output_type": "stream",
     "text": [
      "{'Name': 'Yashaswini', 'Age': 19, 'EmailID': 'yashaswinibadarla20@gmail.com', 'Mobile number': '7********0'}\n",
      "{'Name': 'Yashaswini', 'Age': 19, 'Mobile number': '7********0'}\n"
     ]
    }
   ],
   "source": [
    "user1={'Name':'Yashaswini','Age':19,'EmailID':'yashaswinibadarla20@gmail.com','Mobile number':'7********0'}\n",
    "print(user1)\n",
    "del user1['EmailID']\n",
    "print(user1)"
   ]
  },
  {
   "cell_type": "code",
   "execution_count": 4,
   "metadata": {},
   "outputs": [
    {
     "name": "stdout",
     "output_type": "stream",
     "text": [
      "4\n",
      "5\n"
     ]
    }
   ],
   "source": [
    "user1={'Name':'Yashaswini','Age':19,'EmailID':'yashaswinibadarla20@gmail.com','Mobile number':'7********0'}\n",
    "print(len(user1))\n",
    "user1['Address']='Hyderabad'\n",
    "print(len(user1))"
   ]
  },
  {
   "cell_type": "code",
   "execution_count": 5,
   "metadata": {},
   "outputs": [
    {
     "name": "stdout",
     "output_type": "stream",
     "text": [
      "{'Name': 'Yashaswini', 'Age': 19, 'EmailID': 'yashaswinibadarla20@gmail.com', 'Mobile number': '7********0'}\n",
      "{'Name': 'Yashaswini', 'Age': 19, 'EmailID': 'yashaswinibadarla20@gmail.com', 'Mobile number': '7********0'}\n",
      "{'Name': 'Yashaswini', 'Age': 19, 'EmailID': 'yashaswinibadarla20@gmail.com', 'Mobile number': '7********0', 'Address': 'Hyderabad'}\n",
      "{'Name': 'Yashaswini', 'Age': 19, 'EmailID': 'yashaswinibadarla20@gmail.com', 'Mobile number': '7********0'}\n"
     ]
    }
   ],
   "source": [
    "user1={'Name':'Yashaswini','Age':19,'EmailID':'yashaswinibadarla20@gmail.com','Mobile number':'7********0'}\n",
    "user2=user1.copy()\n",
    "print(user1)\n",
    "print(user2)\n",
    "user1['Address']='Hyderabad'\n",
    "print(user1)\n",
    "print(user2)"
   ]
  },
  {
   "cell_type": "code",
   "execution_count": 6,
   "metadata": {},
   "outputs": [
    {
     "name": "stdout",
     "output_type": "stream",
     "text": [
      "dict_values(['Yashaswini', 19, 'yashaswinibadarla20@gmail.com', '7********0'])\n",
      "dict_values(['Yashaswini', 19, 'yashaswinibadarla20@gmail.com', '7********0'])\n"
     ]
    }
   ],
   "source": [
    "user1={'Name':'Yashaswini','Age':19,'EmailID':'yashaswinibadarla20@gmail.com','Mobile number':'7********0'}\n",
    "user2=user1.copy()\n",
    "print(user1.values())\n",
    "print(user2.values())"
   ]
  },
  {
   "cell_type": "code",
   "execution_count": 15,
   "metadata": {},
   "outputs": [
    {
     "name": "stdout",
     "output_type": "stream",
     "text": [
      "PythonProgramming\n"
     ]
    }
   ],
   "source": [
    "lst=['Python','Programming']\n",
    "print(\"%s%s\"%(lst[0],lst[1]))"
   ]
  },
  {
   "cell_type": "code",
   "execution_count": 7,
   "metadata": {},
   "outputs": [
    {
     "name": "stdout",
     "output_type": "stream",
     "text": [
      "contact Yashaswini added\n",
      "contact Sushma added\n",
      "contact Mrudula added\n",
      "contact Danita added\n"
     ]
    }
   ],
   "source": [
    "contacts={}\n",
    "def  addContact(name,phone):\n",
    "    if name not in contacts:\n",
    "        contacts[name]=phone\n",
    "        print(\"contact %s added\" %name)\n",
    "    else:\n",
    "        print(\"contact %s already exists\" %name)\n",
    "    return\n",
    "addContact(\"Yashaswini\",7013941540)\n",
    "addContact(\"Sushma\",7032554173)\n",
    "addContact(\"Mrudula\",9574123625)\n",
    "addContact(\"Danita\",8882495751)\n",
    "\n"
   ]
  },
  {
   "cell_type": "markdown",
   "metadata": {},
   "source": [
    "### search for a particular contact from contact list\n"
   ]
  },
  {
   "cell_type": "code",
   "execution_count": 9,
   "metadata": {},
   "outputs": [
    {
     "name": "stdout",
     "output_type": "stream",
     "text": [
      "Yashaswini : 7013941540\n",
      "Danita : 8882495751\n",
      "Mrudula : 9574123625\n",
      "Sushma : 7032554173\n"
     ]
    }
   ],
   "source": [
    "def searchContact(name):\n",
    "    if name in contacts:\n",
    "        print(name,\":\",contacts[name])\n",
    "    else:\n",
    "        print(\"%s does not exist\"%name)\n",
    "    return\n",
    "searchContact(\"Yashaswini\")\n",
    "searchContact(\"Danita\")\n",
    "searchContact(\"Mrudula\")\n",
    "searchContact(\"Sushma\")"
   ]
  },
  {
   "cell_type": "markdown",
   "metadata": {},
   "source": [
    "### Merge new contact given with the existing ones"
   ]
  },
  {
   "cell_type": "code",
   "execution_count": 10,
   "metadata": {},
   "outputs": [
    {
     "name": "stdout",
     "output_type": "stream",
     "text": [
      "2 Contacts added successfully\n"
     ]
    }
   ],
   "source": [
    "def importContacts(newContacts):\n",
    "    contacts.update(newContacts)\n",
    "    print(len(newContacts.keys()),\"Contacts added successfully\")\n",
    "    return\n",
    "newContacts={'Teju':9874568412,'Pooja':7589641258}\n",
    "importContacts(newContacts)"
   ]
  },
  {
   "cell_type": "markdown",
   "metadata": {},
   "source": [
    "### Deleting existing contact"
   ]
  },
  {
   "cell_type": "code",
   "execution_count": 12,
   "metadata": {},
   "outputs": [
    {
     "name": "stdout",
     "output_type": "stream",
     "text": [
      "Pooja : is deleted from the contacts\n",
      "valli does not exist in contacts\n"
     ]
    }
   ],
   "source": [
    "def deleteContacts(name):\n",
    "    if name in contacts:\n",
    "        del contacts[name]\n",
    "        print(name,\": is deleted from the contacts\")\n",
    "    else:\n",
    "        print(name,\"does not exist in contacts\")\n",
    "    return\n",
    "deleteContacts(\"Pooja\")\n",
    "deleteContacts(\"valli\")    "
   ]
  },
  {
   "cell_type": "markdown",
   "metadata": {},
   "source": [
    "### Updating existing contacts"
   ]
  },
  {
   "cell_type": "code",
   "execution_count": 13,
   "metadata": {},
   "outputs": [
    {
     "name": "stdout",
     "output_type": "stream",
     "text": [
      "Yashaswini :updated with new phone number\n",
      "Teju :updated with new phone number\n"
     ]
    }
   ],
   "source": [
    "def updateContact(name,phone):\n",
    "    if name in contacts:\n",
    "        contacts[name]=phone\n",
    "        print(name,\":updated with new phone number\")\n",
    "    else:\n",
    "        print(name,\"does not exist in contacts\")\n",
    "    return\n",
    "updateContact(\"Yashaswini\",7136572368)\n",
    "updateContact(\"Teju\",9874563224)\n",
    "        "
   ]
  },
  {
   "cell_type": "code",
   "execution_count": 14,
   "metadata": {},
   "outputs": [
    {
     "name": "stdout",
     "output_type": "stream",
     "text": [
      "{'Yashaswini': 7136572368, 'Sushma': 7032554173, 'Mrudula': 9574123625, 'Danita': 8882495751, 'Teju': 9874563224}\n"
     ]
    }
   ],
   "source": [
    "print(contacts)"
   ]
  },
  {
   "cell_type": "markdown",
   "metadata": {},
   "source": [
    "### String Formatting"
   ]
  },
  {
   "cell_type": "code",
   "execution_count": 15,
   "metadata": {},
   "outputs": [
    {
     "name": "stdout",
     "output_type": "stream",
     "text": [
      "1234\n"
     ]
    }
   ],
   "source": [
    "lst=[1,2,3,4]\n",
    "print(\"%d%d%d%d\"%(lst[0],lst[1],lst[2],lst[3]))\n"
   ]
  },
  {
   "cell_type": "code",
   "execution_count": 16,
   "metadata": {},
   "outputs": [
    {
     "name": "stdout",
     "output_type": "stream",
     "text": [
      "value at:1 value at:2\n",
      "value at:3 value at:4\n"
     ]
    }
   ],
   "source": [
    "lst=[1,2,3,4]\n",
    "print(\"value at:{0} value at:{1}\".format(lst[0],lst[1]))\n",
    "print(\"value at:{0} value at:{1}\".format(lst[2],lst[3]))"
   ]
  },
  {
   "cell_type": "code",
   "execution_count": 20,
   "metadata": {},
   "outputs": [
    {
     "data": {
      "text/plain": [
       "123"
      ]
     },
     "execution_count": 20,
     "metadata": {},
     "output_type": "execute_result"
    }
   ],
   "source": [
    "from math import floor as f1\n",
    "f1(123.456)"
   ]
  },
  {
   "cell_type": "code",
   "execution_count": 21,
   "metadata": {},
   "outputs": [
    {
     "data": {
      "text/plain": [
       "120"
      ]
     },
     "execution_count": 21,
     "metadata": {},
     "output_type": "execute_result"
    }
   ],
   "source": [
    "from math import factorial as fact\n",
    "fact(5)"
   ]
  },
  {
   "cell_type": "code",
   "execution_count": 23,
   "metadata": {},
   "outputs": [
    {
     "data": {
      "text/plain": [
       "720"
      ]
     },
     "execution_count": 23,
     "metadata": {},
     "output_type": "execute_result"
    }
   ],
   "source": [
    "import math\n",
    "math.factorial(6)"
   ]
  },
  {
   "cell_type": "markdown",
   "metadata": {},
   "source": [
    "## Generate random no.s between two limits"
   ]
  },
  {
   "cell_type": "code",
   "execution_count": 29,
   "metadata": {},
   "outputs": [
    {
     "name": "stdout",
     "output_type": "stream",
     "text": [
      "83 65 68 69 63 60 70 42 37 55 "
     ]
    }
   ],
   "source": [
    "import random\n",
    "def generateRandomNumbers(n,lb,ub):\n",
    "    for i in range(0,n):\n",
    "        print(random.randint(lb,ub),end=\" \")\n",
    "    return\n",
    "generateRandomNumbers(10,25,120,)\n",
    "    "
   ]
  },
  {
   "cell_type": "code",
   "execution_count": null,
   "metadata": {},
   "outputs": [],
   "source": []
  }
 ],
 "metadata": {
  "kernelspec": {
   "display_name": "Python 3",
   "language": "python",
   "name": "python3"
  },
  "language_info": {
   "codemirror_mode": {
    "name": "ipython",
    "version": 3
   },
   "file_extension": ".py",
   "mimetype": "text/x-python",
   "name": "python",
   "nbconvert_exporter": "python",
   "pygments_lexer": "ipython3",
   "version": "3.7.3"
  }
 },
 "nbformat": 4,
 "nbformat_minor": 2
}
