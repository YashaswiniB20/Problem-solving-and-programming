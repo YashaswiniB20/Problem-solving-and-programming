{
 "cells": [
  {
   "cell_type": "code",
   "execution_count": 3,
   "metadata": {},
   "outputs": [],
   "source": [
    "def test():\n",
    "    return\n",
    "test()"
   ]
  },
  {
   "cell_type": "code",
   "execution_count": 8,
   "metadata": {},
   "outputs": [
    {
     "name": "stdout",
     "output_type": "stream",
     "text": [
      "test()for the class and method\n"
     ]
    }
   ],
   "source": [
    "class Demo:\n",
    "    def test(self):\n",
    "        print(\"test()for the class and method\")\n",
    "        return\n",
    "obj=Demo()  #object creation\n",
    "obj.test()  #call for the method"
   ]
  },
  {
   "cell_type": "code",
   "execution_count": 17,
   "metadata": {},
   "outputs": [
    {
     "data": {
      "text/plain": [
       "120"
      ]
     },
     "execution_count": 17,
     "metadata": {},
     "output_type": "execute_result"
    }
   ],
   "source": [
    "class Demo1:\n",
    "    def fact(self,n):\n",
    "        #return the factorial\n",
    "        fact=1 \n",
    "        while(n!=0):\n",
    "            fact=fact*n\n",
    "            n=n-1\n",
    "        return fact  \n",
    "p1=Demo1()\n",
    "p1.fact(5)"
   ]
  },
  {
   "cell_type": "code",
   "execution_count": 25,
   "metadata": {},
   "outputs": [
    {
     "name": "stdout",
     "output_type": "stream",
     "text": [
      "None\n"
     ]
    },
    {
     "data": {
      "text/plain": [
       "300"
      ]
     },
     "execution_count": 25,
     "metadata": {},
     "output_type": "execute_result"
    }
   ],
   "source": [
    "class Demo2:\n",
    "    def _init_(self,p1,p2):\n",
    "        self.p1=p1\n",
    "        self.p2=p2\n",
    "    def add(s):\n",
    "        return s.p1+s.p2\n",
    "c1=Demo2()\n",
    "print(c1._init_(100,200))\n",
    "c1.add()"
   ]
  },
  {
   "cell_type": "code",
   "execution_count": null,
   "metadata": {},
   "outputs": [],
   "source": []
  }
 ],
 "metadata": {
  "kernelspec": {
   "display_name": "Python 3",
   "language": "python",
   "name": "python3"
  },
  "language_info": {
   "codemirror_mode": {
    "name": "ipython",
    "version": 3
   },
   "file_extension": ".py",
   "mimetype": "text/x-python",
   "name": "python",
   "nbconvert_exporter": "python",
   "pygments_lexer": "ipython3",
   "version": "3.7.3"
  }
 },
 "nbformat": 4,
 "nbformat_minor": 2
}
